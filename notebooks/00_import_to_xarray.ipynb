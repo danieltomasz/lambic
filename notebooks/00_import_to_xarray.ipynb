{
 "cells": [
  {
   "cell_type": "raw",
   "metadata": {},
   "source": [
    "---\n",
    "title: \"Load the data into xarray object\"\n",
    "format: html\n",
    "---"
   ]
  },
  {
   "cell_type": "code",
   "execution_count": 105,
   "metadata": {},
   "outputs": [
    {
     "name": "stdout",
     "output_type": "stream",
     "text": [
      "The autoreload extension is already loaded. To reload it, use:\n",
      "  %reload_ext autoreload\n"
     ]
    }
   ],
   "source": [
    "%load_ext autoreload\n",
    "%autoreload 2"
   ]
  },
  {
   "cell_type": "code",
   "execution_count": 106,
   "metadata": {},
   "outputs": [
    {
     "name": "stdout",
     "output_type": "stream",
     "text": [
      "1.0.1-dev\n"
     ]
    }
   ],
   "source": [
    "import fooof\n",
    "print(fooof.__version__)"
   ]
  },
  {
   "cell_type": "code",
   "execution_count": 113,
   "metadata": {
    "tags": []
   },
   "outputs": [
    {
     "data": {
      "text/plain": "'psd_concat_freq128 is 199 elements'"
     },
     "metadata": {},
     "output_type": "display_data"
    },
    {
     "data": {
      "text/plain": "'psd_concat_freq52 is 2 elements'"
     },
     "metadata": {},
     "output_type": "display_data"
    }
   ],
   "source": [
    "from pathlib import Path, PurePath\n",
    "from glob import glob\n",
    "import scipy.io  as sio\n",
    "import numpy as np\n",
    "import re\n",
    "import xarray as xr\n",
    "import pandas as pd\n",
    "\n",
    "from lambic.spectrum import psd_fooof, fooof2pandas\n",
    "\n",
    "pandas_list = []\n",
    "folder ='../data/lemon_rsEEG_dataset'\n",
    "files_EC = [Path(p) for p in glob(f\"{folder}/*/*EC.mat\")]\n",
    "\n",
    "files_short = files_EC\n",
    "\n",
    "data_arrays_128freq = []\n",
    "data_arrays_52freq = []\n",
    "sub_128freq = []\n",
    "sub_52freq= []\n",
    "\n",
    "for path_mat in files_short:\n",
    "    sub = re.findall(\"sub-[0-9]{6}\", str(path_mat))\n",
    "    mat_content = sio.loadmat(path_mat)\n",
    "    roi_names=  [l.flatten()[0] for l in mat_content[\"RowNames\"].flatten()] #flatten\n",
    "    freqs = np.ndarray.squeeze(mat_content[\"Freqs\"])\n",
    "    tf = mat_content[\"TF\"]\n",
    "    da = xr.DataArray(tf, dims=['roi_names', 'sub','freqs',], coords={'roi_names': roi_names, 'sub': sub,  'freqs': freqs})\n",
    "    if freqs.size >  51:\n",
    "        data_arrays_128freq.append(da)\n",
    "        sub_128freq.append(sub)\n",
    "    else:\n",
    "        data_arrays_52freq.append(da)\n",
    "        sub_52freq.append(sub)\n",
    "\n",
    "psd_concat_freq128 = xr.concat(data_arrays_128freq , dim='sub', coords='all', join='override')\n",
    "psd_concat_freq128.to_netcdf(\"data/freq128.nc\")\n",
    "display(f\"psd_concat_freq128 is {len(sub_128freq)} elements\")\n",
    "\n",
    "\n",
    "psd_concat_freq52 = xr.concat(data_arrays_52freq  , dim='sub', coords='all', join='override')\n",
    "psd_concat_freq52.to_netcdf(\"data/freq52.nc\")\n",
    "display(f\"psd_concat_freq52 is {len(sub_52freq)} elements\")\n",
    "\n",
    "\n"
   ]
  }
 ],
 "metadata": {
  "kernelspec": {
   "display_name": "lambic-3.11.2",
   "language": "python",
   "name": "lambic-3.11.2"
  },
  "language_info": {
   "codemirror_mode": {
    "name": "ipython",
    "version": 3
   },
   "file_extension": ".py",
   "mimetype": "text/x-python",
   "name": "python",
   "nbconvert_exporter": "python",
   "pygments_lexer": "ipython3",
   "version": "3.11.2"
  }
 },
 "nbformat": 4,
 "nbformat_minor": 4
}
