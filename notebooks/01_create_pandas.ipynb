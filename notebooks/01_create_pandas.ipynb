{
 "cells": [
  {
   "cell_type": "code",
   "execution_count": 10,
   "metadata": {
    "collapsed": true
   },
   "outputs": [],
   "source": [
    "import pandas as pd\n",
    "import xarray as xr\n",
    "from lambic.utils import filter_xarray\n",
    "from fooof import FOOOFGroup\n",
    "import matplotlib.pyplot as plt\n"
   ]
  },
  {
   "cell_type": "code",
   "execution_count": 11,
   "outputs": [
    {
     "name": "stdout",
     "output_type": "stream",
     "text": [
      "['inferiorparietal L', 'inferiorparietal R', 'postcentral L', 'postcentral R', 'superiorparietal L', 'superiorparietal R', 'supramarginal L', 'supramarginal R']\n"
     ]
    }
   ],
   "source": [
    "# the analysis is focusing on parietal parts of the brain\n",
    "\n",
    "ds_disk = xr.open_dataset(\"data/freq128.nc\")\n",
    "\n",
    "contains = [\"inferiorparietal\", \"postcentral\", \"superiorparietal\", \"supramarginal\"]\n",
    "coordinate = 'roi_names'\n",
    "roi_names_set = filter_xarray(ds_disk, coordinate, contains)\n",
    "\n",
    "def add_columns(df, xdf):\n",
    "    temp_df = pd.DataFrame()\n",
    "    temp_df[\"ROI\"] = xdf.coords['roi_names'].values\n",
    "    temp_df.insert(0, 'ID', temp_df.index)\n",
    "    temp_df[\"subjectID\"] = xdf.coords['sub'].values\n",
    "    return df.join(temp_df.set_index('ID'), on='ID')\n",
    "\n",
    "def plot_spectra(fg, df):\n",
    "    for y in range(np.shape(fg.power_spectra)[0]):\n",
    "        fm = fg.get_fooof(x, regenerate=True)\n",
    "        # Check results and visualize the extracted model\n",
    "        fm.report()\n",
    "        display(df[df['ID'] == y] )\n",
    "        plt.show()\n",
    "\n",
    "rois, subjects, frequencies,  = roi_names_set.indexes.values()\n",
    "pandas_list = []\n"
   ],
   "metadata": {
    "collapsed": false
   }
  },
  {
   "cell_type": "code",
   "execution_count": 14,
   "outputs": [
    {
     "data": {
      "text/plain": "<xarray.Dataset>\nDimensions:                        (sub: 199, freqs: 126, roi_names: 8)\nCoordinates:\n  * sub                            (sub) object 'sub-032412' ... 'sub-032469'\n  * freqs                          (freqs) float64 0.0 1.0 2.0 ... 124.0 125.0\n  * roi_names                      (roi_names) object 'inferiorparietal L' .....\nData variables:\n    __xarray_dataarray_variable__  (roi_names, sub, freqs) float64 ...",
      "text/html": "<div><svg style=\"position: absolute; width: 0; height: 0; overflow: hidden\">\n<defs>\n<symbol id=\"icon-database\" viewBox=\"0 0 32 32\">\n<path d=\"M16 0c-8.837 0-16 2.239-16 5v4c0 2.761 7.163 5 16 5s16-2.239 16-5v-4c0-2.761-7.163-5-16-5z\"></path>\n<path d=\"M16 17c-8.837 0-16-2.239-16-5v6c0 2.761 7.163 5 16 5s16-2.239 16-5v-6c0 2.761-7.163 5-16 5z\"></path>\n<path d=\"M16 26c-8.837 0-16-2.239-16-5v6c0 2.761 7.163 5 16 5s16-2.239 16-5v-6c0 2.761-7.163 5-16 5z\"></path>\n</symbol>\n<symbol id=\"icon-file-text2\" viewBox=\"0 0 32 32\">\n<path d=\"M28.681 7.159c-0.694-0.947-1.662-2.053-2.724-3.116s-2.169-2.030-3.116-2.724c-1.612-1.182-2.393-1.319-2.841-1.319h-15.5c-1.378 0-2.5 1.121-2.5 2.5v27c0 1.378 1.122 2.5 2.5 2.5h23c1.378 0 2.5-1.122 2.5-2.5v-19.5c0-0.448-0.137-1.23-1.319-2.841zM24.543 5.457c0.959 0.959 1.712 1.825 2.268 2.543h-4.811v-4.811c0.718 0.556 1.584 1.309 2.543 2.268zM28 29.5c0 0.271-0.229 0.5-0.5 0.5h-23c-0.271 0-0.5-0.229-0.5-0.5v-27c0-0.271 0.229-0.5 0.5-0.5 0 0 15.499-0 15.5 0v7c0 0.552 0.448 1 1 1h7v19.5z\"></path>\n<path d=\"M23 26h-14c-0.552 0-1-0.448-1-1s0.448-1 1-1h14c0.552 0 1 0.448 1 1s-0.448 1-1 1z\"></path>\n<path d=\"M23 22h-14c-0.552 0-1-0.448-1-1s0.448-1 1-1h14c0.552 0 1 0.448 1 1s-0.448 1-1 1z\"></path>\n<path d=\"M23 18h-14c-0.552 0-1-0.448-1-1s0.448-1 1-1h14c0.552 0 1 0.448 1 1s-0.448 1-1 1z\"></path>\n</symbol>\n</defs>\n</svg>\n<style>/* CSS stylesheet for displaying xarray objects in jupyterlab.\n *\n */\n\n:root {\n  --xr-font-color0: var(--jp-content-font-color0, rgba(0, 0, 0, 1));\n  --xr-font-color2: var(--jp-content-font-color2, rgba(0, 0, 0, 0.54));\n  --xr-font-color3: var(--jp-content-font-color3, rgba(0, 0, 0, 0.38));\n  --xr-border-color: var(--jp-border-color2, #e0e0e0);\n  --xr-disabled-color: var(--jp-layout-color3, #bdbdbd);\n  --xr-background-color: var(--jp-layout-color0, white);\n  --xr-background-color-row-even: var(--jp-layout-color1, white);\n  --xr-background-color-row-odd: var(--jp-layout-color2, #eeeeee);\n}\n\nhtml[theme=dark],\nbody[data-theme=dark],\nbody.vscode-dark {\n  --xr-font-color0: rgba(255, 255, 255, 1);\n  --xr-font-color2: rgba(255, 255, 255, 0.54);\n  --xr-font-color3: rgba(255, 255, 255, 0.38);\n  --xr-border-color: #1F1F1F;\n  --xr-disabled-color: #515151;\n  --xr-background-color: #111111;\n  --xr-background-color-row-even: #111111;\n  --xr-background-color-row-odd: #313131;\n}\n\n.xr-wrap {\n  display: block !important;\n  min-width: 300px;\n  max-width: 700px;\n}\n\n.xr-text-repr-fallback {\n  /* fallback to plain text repr when CSS is not injected (untrusted notebook) */\n  display: none;\n}\n\n.xr-header {\n  padding-top: 6px;\n  padding-bottom: 6px;\n  margin-bottom: 4px;\n  border-bottom: solid 1px var(--xr-border-color);\n}\n\n.xr-header > div,\n.xr-header > ul {\n  display: inline;\n  margin-top: 0;\n  margin-bottom: 0;\n}\n\n.xr-obj-type,\n.xr-array-name {\n  margin-left: 2px;\n  margin-right: 10px;\n}\n\n.xr-obj-type {\n  color: var(--xr-font-color2);\n}\n\n.xr-sections {\n  padding-left: 0 !important;\n  display: grid;\n  grid-template-columns: 150px auto auto 1fr 20px 20px;\n}\n\n.xr-section-item {\n  display: contents;\n}\n\n.xr-section-item input {\n  display: none;\n}\n\n.xr-section-item input + label {\n  color: var(--xr-disabled-color);\n}\n\n.xr-section-item input:enabled + label {\n  cursor: pointer;\n  color: var(--xr-font-color2);\n}\n\n.xr-section-item input:enabled + label:hover {\n  color: var(--xr-font-color0);\n}\n\n.xr-section-summary {\n  grid-column: 1;\n  color: var(--xr-font-color2);\n  font-weight: 500;\n}\n\n.xr-section-summary > span {\n  display: inline-block;\n  padding-left: 0.5em;\n}\n\n.xr-section-summary-in:disabled + label {\n  color: var(--xr-font-color2);\n}\n\n.xr-section-summary-in + label:before {\n  display: inline-block;\n  content: '►';\n  font-size: 11px;\n  width: 15px;\n  text-align: center;\n}\n\n.xr-section-summary-in:disabled + label:before {\n  color: var(--xr-disabled-color);\n}\n\n.xr-section-summary-in:checked + label:before {\n  content: '▼';\n}\n\n.xr-section-summary-in:checked + label > span {\n  display: none;\n}\n\n.xr-section-summary,\n.xr-section-inline-details {\n  padding-top: 4px;\n  padding-bottom: 4px;\n}\n\n.xr-section-inline-details {\n  grid-column: 2 / -1;\n}\n\n.xr-section-details {\n  display: none;\n  grid-column: 1 / -1;\n  margin-bottom: 5px;\n}\n\n.xr-section-summary-in:checked ~ .xr-section-details {\n  display: contents;\n}\n\n.xr-array-wrap {\n  grid-column: 1 / -1;\n  display: grid;\n  grid-template-columns: 20px auto;\n}\n\n.xr-array-wrap > label {\n  grid-column: 1;\n  vertical-align: top;\n}\n\n.xr-preview {\n  color: var(--xr-font-color3);\n}\n\n.xr-array-preview,\n.xr-array-data {\n  padding: 0 5px !important;\n  grid-column: 2;\n}\n\n.xr-array-data,\n.xr-array-in:checked ~ .xr-array-preview {\n  display: none;\n}\n\n.xr-array-in:checked ~ .xr-array-data,\n.xr-array-preview {\n  display: inline-block;\n}\n\n.xr-dim-list {\n  display: inline-block !important;\n  list-style: none;\n  padding: 0 !important;\n  margin: 0;\n}\n\n.xr-dim-list li {\n  display: inline-block;\n  padding: 0;\n  margin: 0;\n}\n\n.xr-dim-list:before {\n  content: '(';\n}\n\n.xr-dim-list:after {\n  content: ')';\n}\n\n.xr-dim-list li:not(:last-child):after {\n  content: ',';\n  padding-right: 5px;\n}\n\n.xr-has-index {\n  font-weight: bold;\n}\n\n.xr-var-list,\n.xr-var-item {\n  display: contents;\n}\n\n.xr-var-item > div,\n.xr-var-item label,\n.xr-var-item > .xr-var-name span {\n  background-color: var(--xr-background-color-row-even);\n  margin-bottom: 0;\n}\n\n.xr-var-item > .xr-var-name:hover span {\n  padding-right: 5px;\n}\n\n.xr-var-list > li:nth-child(odd) > div,\n.xr-var-list > li:nth-child(odd) > label,\n.xr-var-list > li:nth-child(odd) > .xr-var-name span {\n  background-color: var(--xr-background-color-row-odd);\n}\n\n.xr-var-name {\n  grid-column: 1;\n}\n\n.xr-var-dims {\n  grid-column: 2;\n}\n\n.xr-var-dtype {\n  grid-column: 3;\n  text-align: right;\n  color: var(--xr-font-color2);\n}\n\n.xr-var-preview {\n  grid-column: 4;\n}\n\n.xr-index-preview {\n  grid-column: 2 / 5;\n  color: var(--xr-font-color2);\n}\n\n.xr-var-name,\n.xr-var-dims,\n.xr-var-dtype,\n.xr-preview,\n.xr-attrs dt {\n  white-space: nowrap;\n  overflow: hidden;\n  text-overflow: ellipsis;\n  padding-right: 10px;\n}\n\n.xr-var-name:hover,\n.xr-var-dims:hover,\n.xr-var-dtype:hover,\n.xr-attrs dt:hover {\n  overflow: visible;\n  width: auto;\n  z-index: 1;\n}\n\n.xr-var-attrs,\n.xr-var-data,\n.xr-index-data {\n  display: none;\n  background-color: var(--xr-background-color) !important;\n  padding-bottom: 5px !important;\n}\n\n.xr-var-attrs-in:checked ~ .xr-var-attrs,\n.xr-var-data-in:checked ~ .xr-var-data,\n.xr-index-data-in:checked ~ .xr-index-data {\n  display: block;\n}\n\n.xr-var-data > table {\n  float: right;\n}\n\n.xr-var-name span,\n.xr-var-data,\n.xr-index-name div,\n.xr-index-data,\n.xr-attrs {\n  padding-left: 25px !important;\n}\n\n.xr-attrs,\n.xr-var-attrs,\n.xr-var-data,\n.xr-index-data {\n  grid-column: 1 / -1;\n}\n\ndl.xr-attrs {\n  padding: 0;\n  margin: 0;\n  display: grid;\n  grid-template-columns: 125px auto;\n}\n\n.xr-attrs dt,\n.xr-attrs dd {\n  padding: 0;\n  margin: 0;\n  float: left;\n  padding-right: 10px;\n  width: auto;\n}\n\n.xr-attrs dt {\n  font-weight: normal;\n  grid-column: 1;\n}\n\n.xr-attrs dt:hover span {\n  display: inline-block;\n  background: var(--xr-background-color);\n  padding-right: 10px;\n}\n\n.xr-attrs dd {\n  grid-column: 2;\n  white-space: pre-wrap;\n  word-break: break-all;\n}\n\n.xr-icon-database,\n.xr-icon-file-text2,\n.xr-no-icon {\n  display: inline-block;\n  vertical-align: middle;\n  width: 1em;\n  height: 1.5em !important;\n  stroke-width: 0;\n  stroke: currentColor;\n  fill: currentColor;\n}\n</style><pre class='xr-text-repr-fallback'>&lt;xarray.Dataset&gt;\nDimensions:                        (sub: 199, freqs: 126, roi_names: 8)\nCoordinates:\n  * sub                            (sub) object &#x27;sub-032412&#x27; ... &#x27;sub-032469&#x27;\n  * freqs                          (freqs) float64 0.0 1.0 2.0 ... 124.0 125.0\n  * roi_names                      (roi_names) object &#x27;inferiorparietal L&#x27; .....\nData variables:\n    __xarray_dataarray_variable__  (roi_names, sub, freqs) float64 ...</pre><div class='xr-wrap' style='display:none'><div class='xr-header'><div class='xr-obj-type'>xarray.Dataset</div></div><ul class='xr-sections'><li class='xr-section-item'><input id='section-dd97e4d7-b55c-4ea6-a5ad-edecf0dbca91' class='xr-section-summary-in' type='checkbox' disabled ><label for='section-dd97e4d7-b55c-4ea6-a5ad-edecf0dbca91' class='xr-section-summary'  title='Expand/collapse section'>Dimensions:</label><div class='xr-section-inline-details'><ul class='xr-dim-list'><li><span class='xr-has-index'>sub</span>: 199</li><li><span class='xr-has-index'>freqs</span>: 126</li><li><span class='xr-has-index'>roi_names</span>: 8</li></ul></div><div class='xr-section-details'></div></li><li class='xr-section-item'><input id='section-1a6d0403-f15d-46cd-b15e-f76629e2b444' class='xr-section-summary-in' type='checkbox'  checked><label for='section-1a6d0403-f15d-46cd-b15e-f76629e2b444' class='xr-section-summary' >Coordinates: <span>(3)</span></label><div class='xr-section-inline-details'></div><div class='xr-section-details'><ul class='xr-var-list'><li class='xr-var-item'><div class='xr-var-name'><span class='xr-has-index'>sub</span></div><div class='xr-var-dims'>(sub)</div><div class='xr-var-dtype'>object</div><div class='xr-var-preview xr-preview'>&#x27;sub-032412&#x27; ... &#x27;sub-032469&#x27;</div><input id='attrs-db06c133-9565-4978-94e9-3b3f94d5f77a' class='xr-var-attrs-in' type='checkbox' disabled><label for='attrs-db06c133-9565-4978-94e9-3b3f94d5f77a' title='Show/Hide attributes'><svg class='icon xr-icon-file-text2'><use xlink:href='#icon-file-text2'></use></svg></label><input id='data-93a2b26b-5269-4c81-91e8-60f888c5d2f7' class='xr-var-data-in' type='checkbox'><label for='data-93a2b26b-5269-4c81-91e8-60f888c5d2f7' title='Show/Hide data repr'><svg class='icon xr-icon-database'><use xlink:href='#icon-database'></use></svg></label><div class='xr-var-attrs'><dl class='xr-attrs'></dl></div><div class='xr-var-data'><pre>array([&#x27;sub-032412&#x27;, &#x27;sub-032415&#x27;, &#x27;sub-032423&#x27;, &#x27;sub-032424&#x27;, &#x27;sub-032470&#x27;,\n       &#x27;sub-032448&#x27;, &#x27;sub-032477&#x27;, &#x27;sub-032441&#x27;, &#x27;sub-032479&#x27;, &#x27;sub-032446&#x27;,\n       &#x27;sub-032425&#x27;, &#x27;sub-032422&#x27;, &#x27;sub-032414&#x27;, &#x27;sub-032413&#x27;, &#x27;sub-032478&#x27;,\n       &#x27;sub-032447&#x27;, &#x27;sub-032440&#x27;, &#x27;sub-032449&#x27;, &#x27;sub-032476&#x27;, &#x27;sub-032482&#x27;,\n       &#x27;sub-032471&#x27;, &#x27;sub-032503&#x27;, &#x27;sub-032355&#x27;, &#x27;sub-032352&#x27;, &#x27;sub-032504&#x27;,\n       &#x27;sub-032399&#x27;, &#x27;sub-032390&#x27;, &#x27;sub-032364&#x27;, &#x27;sub-032363&#x27;, &#x27;sub-032397&#x27;,\n       &#x27;sub-032308&#x27;, &#x27;sub-032337&#x27;, &#x27;sub-032330&#x27;, &#x27;sub-032339&#x27;, &#x27;sub-032306&#x27;,\n       &#x27;sub-032301&#x27;, &#x27;sub-032396&#x27;, &#x27;sub-032362&#x27;, &#x27;sub-032391&#x27;, &#x27;sub-032353&#x27;,\n       &#x27;sub-032505&#x27;, &#x27;sub-032398&#x27;, &#x27;sub-032502&#x27;, &#x27;sub-032354&#x27;, &#x27;sub-032338&#x27;,\n       &#x27;sub-032307&#x27;, &#x27;sub-032331&#x27;, &#x27;sub-032336&#x27;, &#x27;sub-032314&#x27;, &#x27;sub-032313&#x27;,\n       &#x27;sub-032325&#x27;, &#x27;sub-032322&#x27;, &#x27;sub-032349&#x27;, &#x27;sub-032376&#x27;, &#x27;sub-032518&#x27;,\n       &#x27;sub-032371&#x27;, &#x27;sub-032385&#x27;, &#x27;sub-032378&#x27;, &#x27;sub-032347&#x27;, &#x27;sub-032511&#x27;,\n       &#x27;sub-032516&#x27;, &#x27;sub-032340&#x27;, &#x27;sub-032323&#x27;, &#x27;sub-032324&#x27;, &#x27;sub-032312&#x27;,\n       &#x27;sub-032315&#x27;, &#x27;sub-032528&#x27;, &#x27;sub-032517&#x27;, &#x27;sub-032341&#x27;, &#x27;sub-032379&#x27;,\n       &#x27;sub-032346&#x27;, &#x27;sub-032510&#x27;, &#x27;sub-032370&#x27;, &#x27;sub-032348&#x27;, &#x27;sub-032377&#x27;,\n       &#x27;sub-032521&#x27;, &#x27;sub-032383&#x27;, &#x27;sub-032453&#x27;, &#x27;sub-032498&#x27;, &#x27;sub-032454&#x27;,\n       &#x27;sub-032462&#x27;, &#x27;sub-032496&#x27;, &#x27;sub-032491&#x27;, &#x27;sub-032465&#x27;, &#x27;sub-032431&#x27;,\n       &#x27;sub-032409&#x27;, &#x27;sub-032436&#x27;, &#x27;sub-032400&#x27;, &#x27;sub-032438&#x27;, &#x27;sub-032407&#x27;,\n       &#x27;sub-032464&#x27;, &#x27;sub-032490&#x27;, &#x27;sub-032497&#x27;, &#x27;sub-032463&#x27;, &#x27;sub-032455&#x27;,\n       &#x27;sub-032452&#x27;, &#x27;sub-032499&#x27;, &#x27;sub-032439&#x27;, &#x27;sub-032406&#x27;, &#x27;sub-032401&#x27;,\n       &#x27;sub-032408&#x27;, &#x27;sub-032430&#x27;, &#x27;sub-032480&#x27;, &#x27;sub-032474&#x27;, &#x27;sub-032473&#x27;,\n       &#x27;sub-032442&#x27;, &#x27;sub-032416&#x27;, &#x27;sub-032429&#x27;, &#x27;sub-032411&#x27;, &#x27;sub-032427&#x27;,\n       &#x27;sub-032418&#x27;, &#x27;sub-032420&#x27;, &#x27;sub-032444&#x27;, &#x27;sub-032472&#x27;, &#x27;sub-032475&#x27;,\n       &#x27;sub-032481&#x27;, &#x27;sub-032421&#x27;, &#x27;sub-032417&#x27;, &#x27;sub-032428&#x27;, &#x27;sub-032333&#x27;,\n       &#x27;sub-032334&#x27;, &#x27;sub-032302&#x27;, &#x27;sub-032305&#x27;, &#x27;sub-032351&#x27;, &#x27;sub-032507&#x27;,\n       &#x27;sub-032356&#x27;, &#x27;sub-032369&#x27;, &#x27;sub-032360&#x27;, &#x27;sub-032394&#x27;, &#x27;sub-032509&#x27;,\n       &#x27;sub-032393&#x27;, &#x27;sub-032367&#x27;, &#x27;sub-032358&#x27;, &#x27;sub-032304&#x27;, &#x27;sub-032303&#x27;,\n       &#x27;sub-032332&#x27;, &#x27;sub-032392&#x27;, &#x27;sub-032359&#x27;, &#x27;sub-032395&#x27;, &#x27;sub-032361&#x27;,\n       &#x27;sub-032508&#x27;, &#x27;sub-032501&#x27;, &#x27;sub-032357&#x27;, &#x27;sub-032368&#x27;, &#x27;sub-032350&#x27;,\n       &#x27;sub-032506&#x27;, &#x27;sub-032524&#x27;, &#x27;sub-032372&#x27;, &#x27;sub-032386&#x27;, &#x27;sub-032381&#x27;,\n       &#x27;sub-032375&#x27;, &#x27;sub-032523&#x27;, &#x27;sub-032388&#x27;, &#x27;sub-032515&#x27;, &#x27;sub-032343&#x27;,\n       &#x27;sub-032344&#x27;, &#x27;sub-032512&#x27;, &#x27;sub-032310&#x27;, &#x27;sub-032317&#x27;, &#x27;sub-032328&#x27;,\n       &#x27;sub-032321&#x27;, &#x27;sub-032326&#x27;, &#x27;sub-032319&#x27;, &#x27;sub-032345&#x27;, &#x27;sub-032513&#x27;,\n       &#x27;sub-032389&#x27;, &#x27;sub-032514&#x27;, &#x27;sub-032342&#x27;, &#x27;sub-032522&#x27;, &#x27;sub-032380&#x27;,\n       &#x27;sub-032387&#x27;, &#x27;sub-032525&#x27;, &#x27;sub-032373&#x27;, &#x27;sub-032327&#x27;, &#x27;sub-032318&#x27;,\n       &#x27;sub-032320&#x27;, &#x27;sub-032316&#x27;, &#x27;sub-032329&#x27;, &#x27;sub-032311&#x27;, &#x27;sub-032435&#x27;,\n       &#x27;sub-032432&#x27;, &#x27;sub-032403&#x27;, &#x27;sub-032457&#x27;, &#x27;sub-032468&#x27;, &#x27;sub-032450&#x27;,\n       &#x27;sub-032466&#x27;, &#x27;sub-032459&#x27;, &#x27;sub-032495&#x27;, &#x27;sub-032402&#x27;, &#x27;sub-032405&#x27;,\n       &#x27;sub-032434&#x27;, &#x27;sub-032494&#x27;, &#x27;sub-032460&#x27;, &#x27;sub-032467&#x27;, &#x27;sub-032493&#x27;,\n       &#x27;sub-032458&#x27;, &#x27;sub-032451&#x27;, &#x27;sub-032456&#x27;, &#x27;sub-032469&#x27;], dtype=object)</pre></div></li><li class='xr-var-item'><div class='xr-var-name'><span class='xr-has-index'>freqs</span></div><div class='xr-var-dims'>(freqs)</div><div class='xr-var-dtype'>float64</div><div class='xr-var-preview xr-preview'>0.0 1.0 2.0 ... 123.0 124.0 125.0</div><input id='attrs-c6099887-7ef0-487f-9980-536bf6bdef2c' class='xr-var-attrs-in' type='checkbox' disabled><label for='attrs-c6099887-7ef0-487f-9980-536bf6bdef2c' title='Show/Hide attributes'><svg class='icon xr-icon-file-text2'><use xlink:href='#icon-file-text2'></use></svg></label><input id='data-42aedf24-6e79-45ec-a863-c4379f996eca' class='xr-var-data-in' type='checkbox'><label for='data-42aedf24-6e79-45ec-a863-c4379f996eca' title='Show/Hide data repr'><svg class='icon xr-icon-database'><use xlink:href='#icon-database'></use></svg></label><div class='xr-var-attrs'><dl class='xr-attrs'></dl></div><div class='xr-var-data'><pre>array([  0.      ,   1.      ,   2.      ,   3.      ,   4.      ,   5.      ,\n         5.999999,   6.999999,   7.999999,   8.999999,   9.999999,  10.999999,\n        11.999999,  12.999999,  13.999999,  14.999999,  15.999998,  16.999998,\n        17.999998,  18.999998,  19.999998,  20.999998,  21.999998,  22.999998,\n        23.999998,  24.999998,  25.999998,  26.999997,  27.999997,  28.999997,\n        29.999997,  30.999997,  31.999997,  32.999997,  33.999997,  34.999997,\n        35.999997,  36.999996,  37.999996,  38.999996,  39.999996,  40.999996,\n        41.999996,  42.999996,  43.999996,  44.999996,  45.999996,  46.999996,\n        47.999995,  48.999995,  49.999995,  50.999995,  51.999995,  52.999995,\n        53.999995,  54.999995,  55.999995,  56.999995,  57.999994,  58.999994,\n        59.999994,  60.999994,  61.999994,  62.999994,  63.999994,  64.999994,\n        65.999994,  66.999994,  67.999994,  68.999993,  69.999993,  70.999993,\n        71.999993,  72.999993,  73.999993,  74.999993,  75.999993,  76.999993,\n        77.999993,  78.999992,  79.999992,  80.999992,  81.999992,  82.999992,\n        83.999992,  84.999992,  85.999992,  86.999992,  87.999992,  88.999992,\n        89.999991,  90.999991,  91.999991,  92.999991,  93.999991,  94.999991,\n        95.999991,  96.999991,  97.999991,  98.999991,  99.99999 , 100.99999 ,\n       101.99999 , 102.99999 , 103.99999 , 104.99999 , 105.99999 , 106.99999 ,\n       107.99999 , 108.99999 , 109.99999 , 110.999989, 111.999989, 112.999989,\n       113.999989, 114.999989, 115.999989, 116.999989, 117.999989, 118.999989,\n       119.999989, 120.999988, 121.999988, 122.999988, 123.999988, 124.999988])</pre></div></li><li class='xr-var-item'><div class='xr-var-name'><span class='xr-has-index'>roi_names</span></div><div class='xr-var-dims'>(roi_names)</div><div class='xr-var-dtype'>object</div><div class='xr-var-preview xr-preview'>&#x27;inferiorparietal L&#x27; ... &#x27;supram...</div><input id='attrs-8155db8e-d0e3-48bb-a109-720331eb7d7f' class='xr-var-attrs-in' type='checkbox' disabled><label for='attrs-8155db8e-d0e3-48bb-a109-720331eb7d7f' title='Show/Hide attributes'><svg class='icon xr-icon-file-text2'><use xlink:href='#icon-file-text2'></use></svg></label><input id='data-7802c816-bd8c-41e4-b636-dd50f77ebae8' class='xr-var-data-in' type='checkbox'><label for='data-7802c816-bd8c-41e4-b636-dd50f77ebae8' title='Show/Hide data repr'><svg class='icon xr-icon-database'><use xlink:href='#icon-database'></use></svg></label><div class='xr-var-attrs'><dl class='xr-attrs'></dl></div><div class='xr-var-data'><pre>array([&#x27;inferiorparietal L&#x27;, &#x27;inferiorparietal R&#x27;, &#x27;postcentral L&#x27;,\n       &#x27;postcentral R&#x27;, &#x27;superiorparietal L&#x27;, &#x27;superiorparietal R&#x27;,\n       &#x27;supramarginal L&#x27;, &#x27;supramarginal R&#x27;], dtype=object)</pre></div></li></ul></div></li><li class='xr-section-item'><input id='section-9616b736-a8fc-45d2-9d53-9830586f5e59' class='xr-section-summary-in' type='checkbox'  checked><label for='section-9616b736-a8fc-45d2-9d53-9830586f5e59' class='xr-section-summary' >Data variables: <span>(1)</span></label><div class='xr-section-inline-details'></div><div class='xr-section-details'><ul class='xr-var-list'><li class='xr-var-item'><div class='xr-var-name'><span>__xarray_dataarray_variable__</span></div><div class='xr-var-dims'>(roi_names, sub, freqs)</div><div class='xr-var-dtype'>float64</div><div class='xr-var-preview xr-preview'>...</div><input id='attrs-f7d82b9b-1d05-4291-88fc-13d586ce88d3' class='xr-var-attrs-in' type='checkbox' disabled><label for='attrs-f7d82b9b-1d05-4291-88fc-13d586ce88d3' title='Show/Hide attributes'><svg class='icon xr-icon-file-text2'><use xlink:href='#icon-file-text2'></use></svg></label><input id='data-ed9c70c3-9e2e-4c53-a61f-c2e6b0c74934' class='xr-var-data-in' type='checkbox'><label for='data-ed9c70c3-9e2e-4c53-a61f-c2e6b0c74934' title='Show/Hide data repr'><svg class='icon xr-icon-database'><use xlink:href='#icon-database'></use></svg></label><div class='xr-var-attrs'><dl class='xr-attrs'></dl></div><div class='xr-var-data'><pre>[200592 values with dtype=float64]</pre></div></li></ul></div></li><li class='xr-section-item'><input id='section-7d5bf059-c34e-426d-a763-cb908cdf217b' class='xr-section-summary-in' type='checkbox'  ><label for='section-7d5bf059-c34e-426d-a763-cb908cdf217b' class='xr-section-summary' >Indexes: <span>(3)</span></label><div class='xr-section-inline-details'></div><div class='xr-section-details'><ul class='xr-var-list'><li class='xr-var-item'><div class='xr-index-name'><div>sub</div></div><div class='xr-index-preview'>PandasIndex</div><div></div><input id='index-9e027a89-367d-4c7b-aaf9-5a7e205031ed' class='xr-index-data-in' type='checkbox'/><label for='index-9e027a89-367d-4c7b-aaf9-5a7e205031ed' title='Show/Hide index repr'><svg class='icon xr-icon-database'><use xlink:href='#icon-database'></use></svg></label><div class='xr-index-data'><pre>PandasIndex(Index([&#x27;sub-032412&#x27;, &#x27;sub-032415&#x27;, &#x27;sub-032423&#x27;, &#x27;sub-032424&#x27;, &#x27;sub-032470&#x27;,\n       &#x27;sub-032448&#x27;, &#x27;sub-032477&#x27;, &#x27;sub-032441&#x27;, &#x27;sub-032479&#x27;, &#x27;sub-032446&#x27;,\n       ...\n       &#x27;sub-032405&#x27;, &#x27;sub-032434&#x27;, &#x27;sub-032494&#x27;, &#x27;sub-032460&#x27;, &#x27;sub-032467&#x27;,\n       &#x27;sub-032493&#x27;, &#x27;sub-032458&#x27;, &#x27;sub-032451&#x27;, &#x27;sub-032456&#x27;, &#x27;sub-032469&#x27;],\n      dtype=&#x27;object&#x27;, name=&#x27;sub&#x27;, length=199))</pre></div></li><li class='xr-var-item'><div class='xr-index-name'><div>freqs</div></div><div class='xr-index-preview'>PandasIndex</div><div></div><input id='index-b999f68b-89c9-48a5-96bc-5428a8924be0' class='xr-index-data-in' type='checkbox'/><label for='index-b999f68b-89c9-48a5-96bc-5428a8924be0' title='Show/Hide index repr'><svg class='icon xr-icon-database'><use xlink:href='#icon-database'></use></svg></label><div class='xr-index-data'><pre>PandasIndex(Float64Index([               0.0, 0.9999999046142093, 1.9999998092284186,\n               2.999999713842628,  3.999999618456837,  4.999999523071047,\n               5.999999427685256,  6.999999332299465,  7.999999236913674,\n               8.999999141527883,\n              ...\n              115.99998893524828,  116.9999888398625,  117.9999887444767,\n               118.9999886490909, 119.99998855370511, 120.99998845831932,\n              121.99998836293354, 122.99998826754774, 123.99998817216195,\n              124.99998807677616],\n             dtype=&#x27;float64&#x27;, name=&#x27;freqs&#x27;, length=126))</pre></div></li><li class='xr-var-item'><div class='xr-index-name'><div>roi_names</div></div><div class='xr-index-preview'>PandasIndex</div><div></div><input id='index-7d58d01f-1628-4436-b8e5-c26b9bd62113' class='xr-index-data-in' type='checkbox'/><label for='index-7d58d01f-1628-4436-b8e5-c26b9bd62113' title='Show/Hide index repr'><svg class='icon xr-icon-database'><use xlink:href='#icon-database'></use></svg></label><div class='xr-index-data'><pre>PandasIndex(Index([&#x27;inferiorparietal L&#x27;, &#x27;inferiorparietal R&#x27;, &#x27;postcentral L&#x27;,\n       &#x27;postcentral R&#x27;, &#x27;superiorparietal L&#x27;, &#x27;superiorparietal R&#x27;,\n       &#x27;supramarginal L&#x27;, &#x27;supramarginal R&#x27;],\n      dtype=&#x27;object&#x27;, name=&#x27;roi_names&#x27;))</pre></div></li></ul></div></li><li class='xr-section-item'><input id='section-f9e70a56-ff13-4229-abb1-31a1cdbd943b' class='xr-section-summary-in' type='checkbox' disabled ><label for='section-f9e70a56-ff13-4229-abb1-31a1cdbd943b' class='xr-section-summary'  title='Expand/collapse section'>Attributes: <span>(0)</span></label><div class='xr-section-inline-details'></div><div class='xr-section-details'><dl class='xr-attrs'></dl></div></li></ul></div></div>"
     },
     "execution_count": 14,
     "metadata": {},
     "output_type": "execute_result"
    }
   ],
   "source": [
    "roi_names_set"
   ],
   "metadata": {
    "collapsed": false
   }
  },
  {
   "cell_type": "code",
   "execution_count": 15,
   "outputs": [
    {
     "ename": "AttributeError",
     "evalue": "'str' object has no attribute 'values'",
     "output_type": "error",
     "traceback": [
      "\u001B[0;31m---------------------------------------------------------------------------\u001B[0m",
      "\u001B[0;31mAttributeError\u001B[0m                            Traceback (most recent call last)",
      "Cell \u001B[0;32mIn[15], line 2\u001B[0m\n\u001B[1;32m      1\u001B[0m \u001B[38;5;28;01mfor\u001B[39;00m temp_xarray \u001B[38;5;129;01min\u001B[39;00m roi_names_set\u001B[38;5;241m.\u001B[39mtranspose(\u001B[38;5;124m\"\u001B[39m\u001B[38;5;124msub\u001B[39m\u001B[38;5;124m\"\u001B[39m, \u001B[38;5;241m.\u001B[39m\u001B[38;5;241m.\u001B[39m\u001B[38;5;241m.\u001B[39m):\n\u001B[0;32m----> 2\u001B[0m     spectra \u001B[38;5;241m=\u001B[39m \u001B[43mtemp_xarray\u001B[49m\u001B[38;5;241;43m.\u001B[39;49m\u001B[43mvalues\u001B[49m\n\u001B[1;32m      3\u001B[0m     fparams \u001B[38;5;241m=\u001B[39m  FOOOFGroup(\n\u001B[1;32m      4\u001B[0m         peak_width_limits\u001B[38;5;241m=\u001B[39m[\u001B[38;5;241m2\u001B[39m, \u001B[38;5;241m8\u001B[39m],\n\u001B[1;32m      5\u001B[0m         min_peak_height\u001B[38;5;241m=\u001B[39m\u001B[38;5;241m0.1\u001B[39m,\n\u001B[1;32m      6\u001B[0m         max_n_peaks\u001B[38;5;241m=\u001B[39m\u001B[38;5;241m6\u001B[39m,\n\u001B[1;32m      7\u001B[0m         aperiodic_mode\u001B[38;5;241m=\u001B[39m\u001B[38;5;124m\"\u001B[39m\u001B[38;5;124mfixed\u001B[39m\u001B[38;5;124m\"\u001B[39m,\n\u001B[1;32m      8\u001B[0m     )\n\u001B[1;32m      9\u001B[0m     fg \u001B[38;5;241m=\u001B[39m psd_fooof(np\u001B[38;5;241m.\u001B[39marray(frequencies), spectra,  fparams,freq_range\u001B[38;5;241m=\u001B[39m [\u001B[38;5;241m3\u001B[39m, \u001B[38;5;241m40\u001B[39m])\n",
      "\u001B[0;31mAttributeError\u001B[0m: 'str' object has no attribute 'values'"
     ]
    }
   ],
   "source": [
    "\n",
    "for temp_xarray in roi_names_set.transpose(\"sub\", ...):\n",
    "    spectra = temp_xarray.values\n",
    "    fparams =  FOOOFGroup(\n",
    "        peak_width_limits=[2, 8],\n",
    "        min_peak_height=0.1,\n",
    "        max_n_peaks=6,\n",
    "        aperiodic_mode=\"fixed\",\n",
    "    )\n",
    "    fg = psd_fooof(np.array(frequencies), spectra,  fparams,freq_range= [3, 40])\n",
    "    df = fooof2pandas(fg)\n",
    "    df_combined = add_columns( df, temp_xarray)\n",
    "    pandas_list.append(df_combined)\n",
    "    plot_spectra(fg, df)\n",
    "\n",
    "df = pd.concat(pandas_list)"
   ],
   "metadata": {
    "collapsed": false
   }
  },
  {
   "cell_type": "code",
   "execution_count": 16,
   "outputs": [
    {
     "data": {
      "text/plain": "'__xarray_dataarray_variable__'"
     },
     "execution_count": 16,
     "metadata": {},
     "output_type": "execute_result"
    }
   ],
   "source": [
    "temp_xarray"
   ],
   "metadata": {
    "collapsed": false
   }
  },
  {
   "cell_type": "code",
   "execution_count": null,
   "outputs": [],
   "source": [],
   "metadata": {
    "collapsed": false
   }
  }
 ],
 "metadata": {
  "kernelspec": {
   "name": "lambic-3.11.2",
   "language": "python",
   "display_name": "lambic-3.11.2"
  },
  "language_info": {
   "codemirror_mode": {
    "name": "ipython",
    "version": 2
   },
   "file_extension": ".py",
   "mimetype": "text/x-python",
   "name": "python",
   "nbconvert_exporter": "python",
   "pygments_lexer": "ipython2",
   "version": "2.7.6"
  }
 },
 "nbformat": 4,
 "nbformat_minor": 0
}
