{
 "cells": [
  {
   "cell_type": "raw",
   "metadata": {},
   "source": [
    "---\n",
    "title: \"Simulate signal\"\n",
    "format: html\n",
    "self-contained: true\n",
    "---"
   ]
  },
  {
   "cell_type": "code",
   "execution_count": 6,
   "metadata": {},
   "outputs": [],
   "source": [
    "import pandas as pd\n",
    "from fooof.sim.gen import gen_freqs, gen_group_power_spectra\n",
    "from fooof.core.info import get_ap_indices, get_peak_indices\n",
    "from fooof.core.funcs import infer_ap_func\n",
    "\n",
    "\n",
    "from fooof import FOOOFGroup\n",
    "from fooof.utils.download import load_fooof_data\n",
    "freqs = load_fooof_data('group_freqs.npy', folder='data')\n",
    "spectra = load_fooof_data('group_powers.npy', folder='data')\n",
    "\n",
    "def generate_example_spectra():\n",
    "    n_spectra = 2\n",
    "    freq_range = [1.5, 50]\n",
    "    ap_params = [[0.5, 1], [1, 1.5]]\n",
    "    pe_params = [[10, 0.4, 1], [10, 0.2, 1, 22, 0.1, 3]]\n",
    "    nlv = 0.02\n",
    "    # Simulate a group of power spectra\n",
    "    [freqs, powers, sim_params] = gen_group_power_spectra(n_spectra, freq_range, ap_params, pe_params, nlv, return_params=True)\n",
    "    # type: ignore\n",
    "    return freqs, powers, sim_params\n",
    "\n",
    "def psd_fooof(freqs, spectra):\n",
    "    fg = FOOOFGroup(peak_width_limits=[1, 8],min_peak_height=0.05, max_n_peaks=6)\n",
    "    fg.fit(freqs, spectra, freq_range=[3, 48],n_jobs=-1, progress='tqdm')\n",
    "    fg.print_results()\n",
    "    return fg\n",
    "\n",
    "def model_to_dict(fit_results):\n",
    "    \"\"\"Convert model fit results to a dictionary.\n",
    "    Parameters\n",
    "    ----------\n",
    "    fit_results : FOOOFResults\n",
    "        Results of a model fit.\n",
    "    Returns\n",
    "    -------\n",
    "    dict\n",
    "        Model results organized into a dictionary.\n",
    "    \"\"\"\n",
    "\n",
    "    fr_dict = dict(\n",
    "        zip(\n",
    "            get_ap_indices(infer_ap_func(fit_results.get_params('aperiodic_params'))),\n",
    "            fit_results.get_params('aperiodic_params'),\n",
    "        )\n",
    "    )\n",
    "    # periodic parameters\n",
    "    peaks = fit_results.get_params('peak_params')\n",
    "    for ind, peak in enumerate(peaks):\n",
    "        for pe_label, pe_param in zip(get_peak_indices(), peak):\n",
    "            fr_dict[f'{pe_label.lower()}_{str(ind)}'] = pe_param\n",
    "\n",
    "    # goodness-of-fit metrics\n",
    "    fr_dict['error'] = fit_results.get_params('error')\n",
    "    fr_dict['r_squared'] = fit_results.get_params('r_squared')\n",
    "\n",
    "    return fr_dict\n",
    "\n",
    "\n",
    "def model_to_dataframe(fit_results):\n",
    "    \"\"\"Convert model fit results to a dataframe.\n",
    "    Parameters\n",
    "    ----------\n",
    "    fit_results : FOOOFResults\n",
    "        Results of a model fit.\n",
    "    Returns\n",
    "    -------\n",
    "    pd.Series\n",
    "        Model results organized into a dataframe.\n",
    "    \"\"\"\n",
    "\n",
    "    return pd.Series(model_to_dict(fit_results))\n"
   ]
  },
  {
   "cell_type": "code",
   "execution_count": 4,
   "metadata": {},
   "outputs": [
    {
     "name": "stdout",
     "output_type": "stream",
     "text": [
      "(100,)\n",
      "(25, 100)\n"
     ]
    }
   ],
   "source": [
    "# Check the shape of the loaded data\n",
    "print(freqs.shape)\n",
    "print(spectra.shape)"
   ]
  },
  {
   "cell_type": "code",
   "execution_count": 7,
   "metadata": {},
   "outputs": [
    {
     "name": "stderr",
     "output_type": "stream",
     "text": [
      "Running FOOOFGroup: 100%|██████████| 25/25 [00:01<00:00, 13.61it/s]"
     ]
    },
    {
     "name": "stdout",
     "output_type": "stream",
     "text": [
      "==================================================================================================\n",
      "                                                                                                  \n",
      "                                       FOOOF - GROUP RESULTS                                      \n",
      "                                                                                                  \n",
      "                             Number of power spectra in the Group: 25                             \n",
      "                                                                                                  \n",
      "                        The model was run on the frequency range 3 - 48 Hz                        \n",
      "                                 Frequency Resolution is 0.49 Hz                                  \n",
      "                                                                                                  \n",
      "                              Power spectra were fit without a knee.                              \n",
      "                                                                                                  \n",
      "                                      Aperiodic Fit Values:                                       \n",
      "                        Exponents - Min:  0.579, Max:  1.116, Mean: 0.862                         \n",
      "                                                                                                  \n",
      "                         In total 115 peaks were extracted from the group                         \n",
      "                                                                                                  \n",
      "                                     Goodness of fit metrics:                                     \n",
      "                            R2s -  Min:  0.952, Max:  0.994, Mean: 0.984                          \n",
      "                         Errors -  Min:  0.022, Max:  0.074, Mean: 0.036                          \n",
      "                                                                                                  \n",
      "==================================================================================================\n"
     ]
    },
    {
     "name": "stderr",
     "output_type": "stream",
     "text": [
      "\n"
     ]
    },
    {
     "ename": "InconsistentDataError",
     "evalue": "The given aperiodic parameters are inconsistent with available options.",
     "output_type": "error",
     "traceback": [
      "\u001b[0;31m---------------------------------------------------------------------------\u001b[0m",
      "\u001b[0;31mInconsistentDataError\u001b[0m                     Traceback (most recent call last)",
      "Cell \u001b[0;32mIn[7], line 3\u001b[0m\n\u001b[1;32m      1\u001b[0m \u001b[39m#freqs, spectra, sim_params = generate_example_spectra()\u001b[39;00m\n\u001b[1;32m      2\u001b[0m fg \u001b[39m=\u001b[39m psd_fooof(freqs, spectra)\n\u001b[0;32m----> 3\u001b[0m df \u001b[39m=\u001b[39m model_to_dataframe(fg)\n",
      "Cell \u001b[0;32mIn[6], line 72\u001b[0m, in \u001b[0;36mmodel_to_dataframe\u001b[0;34m(fit_results)\u001b[0m\n\u001b[1;32m     60\u001b[0m \u001b[39mdef\u001b[39;00m \u001b[39mmodel_to_dataframe\u001b[39m(fit_results):\n\u001b[1;32m     61\u001b[0m \u001b[39m    \u001b[39m\u001b[39m\"\"\"Convert model fit results to a dataframe.\u001b[39;00m\n\u001b[1;32m     62\u001b[0m \u001b[39m    Parameters\u001b[39;00m\n\u001b[1;32m     63\u001b[0m \u001b[39m    ----------\u001b[39;00m\n\u001b[0;32m   (...)\u001b[0m\n\u001b[1;32m     69\u001b[0m \u001b[39m        Model results organized into a dataframe.\u001b[39;00m\n\u001b[1;32m     70\u001b[0m \u001b[39m    \"\"\"\u001b[39;00m\n\u001b[0;32m---> 72\u001b[0m     \u001b[39mreturn\u001b[39;00m pd\u001b[39m.\u001b[39mSeries(model_to_dict(fit_results))\n",
      "Cell \u001b[0;32mIn[6], line 43\u001b[0m, in \u001b[0;36mmodel_to_dict\u001b[0;34m(fit_results)\u001b[0m\n\u001b[1;32m     29\u001b[0m \u001b[39mdef\u001b[39;00m \u001b[39mmodel_to_dict\u001b[39m(fit_results):\n\u001b[1;32m     30\u001b[0m \u001b[39m    \u001b[39m\u001b[39m\"\"\"Convert model fit results to a dictionary.\u001b[39;00m\n\u001b[1;32m     31\u001b[0m \u001b[39m    Parameters\u001b[39;00m\n\u001b[1;32m     32\u001b[0m \u001b[39m    ----------\u001b[39;00m\n\u001b[0;32m   (...)\u001b[0m\n\u001b[1;32m     38\u001b[0m \u001b[39m        Model results organized into a dictionary.\u001b[39;00m\n\u001b[1;32m     39\u001b[0m \u001b[39m    \"\"\"\u001b[39;00m\n\u001b[1;32m     41\u001b[0m     fr_dict \u001b[39m=\u001b[39m \u001b[39mdict\u001b[39m(\n\u001b[1;32m     42\u001b[0m         \u001b[39mzip\u001b[39m(\n\u001b[0;32m---> 43\u001b[0m             get_ap_indices(infer_ap_func(fit_results\u001b[39m.\u001b[39;49mget_params(\u001b[39m'\u001b[39;49m\u001b[39maperiodic_params\u001b[39;49m\u001b[39m'\u001b[39;49m))),\n\u001b[1;32m     44\u001b[0m             fit_results\u001b[39m.\u001b[39mget_params(\u001b[39m'\u001b[39m\u001b[39maperiodic_params\u001b[39m\u001b[39m'\u001b[39m),\n\u001b[1;32m     45\u001b[0m         )\n\u001b[1;32m     46\u001b[0m     )\n\u001b[1;32m     47\u001b[0m     \u001b[39m# periodic parameters\u001b[39;00m\n\u001b[1;32m     48\u001b[0m     peaks \u001b[39m=\u001b[39m fit_results\u001b[39m.\u001b[39mget_params(\u001b[39m'\u001b[39m\u001b[39mpeak_params\u001b[39m\u001b[39m'\u001b[39m)\n",
      "File \u001b[0;32m~/.pyenv/versions/lambic-3.11.2/lib/python3.11/site-packages/fooof/core/funcs.py:231\u001b[0m, in \u001b[0;36minfer_ap_func\u001b[0;34m(aperiodic_params)\u001b[0m\n\u001b[1;32m    229\u001b[0m     aperiodic_mode \u001b[39m=\u001b[39m \u001b[39m'\u001b[39m\u001b[39mknee\u001b[39m\u001b[39m'\u001b[39m\n\u001b[1;32m    230\u001b[0m \u001b[39melse\u001b[39;00m:\n\u001b[0;32m--> 231\u001b[0m     \u001b[39mraise\u001b[39;00m InconsistentDataError(\u001b[39m\"\u001b[39m\u001b[39mThe given aperiodic parameters are \u001b[39m\u001b[39m\"\u001b[39m\n\u001b[1;32m    232\u001b[0m                                 \u001b[39m\"\u001b[39m\u001b[39minconsistent with available options.\u001b[39m\u001b[39m\"\u001b[39m)\n\u001b[1;32m    234\u001b[0m \u001b[39mreturn\u001b[39;00m aperiodic_mode\n",
      "\u001b[0;31mInconsistentDataError\u001b[0m: The given aperiodic parameters are inconsistent with available options."
     ]
    }
   ],
   "source": [
    "#freqs, spectra, sim_params = generate_example_spectra()\n",
    "fg = psd_fooof(freqs, spectra)\n",
    "df = model_to_dataframe(fg)\n"
   ]
  },
  {
   "cell_type": "code",
   "execution_count": 1,
   "metadata": {},
   "outputs": [
    {
     "name": "stdout",
     "output_type": "stream",
     "text": [
      "Running FOOOFGroup across 25 power spectra.\n",
      "==================================================================================================\n",
      "                                                                                                  \n",
      "                                       FOOOF - GROUP RESULTS                                      \n",
      "                                                                                                  \n",
      "                             Number of power spectra in the Group: 25                             \n",
      "                                                                                                  \n",
      "                        The model was run on the frequency range 3 - 30 Hz                        \n",
      "                                 Frequency Resolution is 0.49 Hz                                  \n",
      "                                                                                                  \n",
      "                              Power spectra were fit without a knee.                              \n",
      "                                                                                                  \n",
      "                                      Aperiodic Fit Values:                                       \n",
      "                        Exponents - Min:  0.353, Max:  0.982, Mean: 0.664                         \n",
      "                                                                                                  \n",
      "                         In total 85 peaks were extracted from the group                          \n",
      "                                                                                                  \n",
      "                                     Goodness of fit metrics:                                     \n",
      "                            R2s -  Min:  0.902, Max:  0.990, Mean: 0.970                          \n",
      "                         Errors -  Min:  0.025, Max:  0.121, Mean: 0.042                          \n",
      "                                                                                                  \n",
      "==================================================================================================\n"
     ]
    }
   ],
   "source": [
    "# Import the FOOOFGroup object\n",
    "from fooof import FOOOFGroup\n",
    "\n",
    "# Import a utility to download and load example data\n",
    "from fooof.utils.download import load_fooof_data\n",
    "# Load examples data files needed for this example\n",
    "freqs = load_fooof_data('group_freqs.npy', folder='data')\n",
    "spectra = load_fooof_data('group_powers.npy', folder='data')\n",
    "fg = FOOOFGroup(peak_width_limits=[1, 8], min_peak_height=0.05, max_n_peaks=6)\n",
    "fg.fit(freqs, spectra, [3, 30])\n",
    "fg.print_results()"
   ]
  }
 ],
 "metadata": {
  "kernelspec": {
   "display_name": "lambic-3.11.2",
   "language": "python",
   "name": "lambic-3.11.2"
  },
  "language_info": {
   "codemirror_mode": {
    "name": "ipython",
    "version": 3
   },
   "file_extension": ".py",
   "mimetype": "text/x-python",
   "name": "python",
   "nbconvert_exporter": "python",
   "pygments_lexer": "ipython3",
   "version": "3.11.2"
  },
  "orig_nbformat": 4
 },
 "nbformat": 4,
 "nbformat_minor": 2
}
