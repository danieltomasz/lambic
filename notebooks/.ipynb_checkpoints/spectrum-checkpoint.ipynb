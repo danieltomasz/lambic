{
  "cells": [
    {
      "cell_type": "raw",
      "id": "dbc4a3c2",
      "metadata": {},
      "source": [
        "---\n",
        "title: \"Example pipeline for analysing EEG\"\n",
        "format: html\n",
        "self-contained: true\n",
        "---"
      ]
    },
    {
      "cell_type": "code",
      "execution_count": 1,
      "id": "bafbf21c",
      "metadata": {},
      "outputs": [],
      "source": [
        "from IPython.lib.deepreload import reload\n",
        "%load_ext autoreload\n",
        "%autoreload 2"
      ]
    },
    {
      "cell_type": "markdown",
      "id": "2f33fbdf",
      "metadata": {},
      "source": [
        "## Functions\n"
      ]
    },
    {
      "attachments": {},
      "cell_type": "markdown",
      "id": "7914dff5",
      "metadata": {},
      "source": [
        "The first function I need to setup are the function that  the psd and  create fooof variables"
      ]
    },
    {
      "cell_type": "code",
      "execution_count": 52,
      "id": "31d9ad5e",
      "metadata": {},
      "outputs": [],
      "source": [
        "\n",
        "from fooof import FOOOFGroup,  FOOOF\n",
        "import pandas as pd\n",
        "import numpy as np\n",
        "from neurodsp.spectral import compute_spectrum\n",
        "import mne\n",
        "import functools\n",
        "import inspect\n",
        "from fooof.objs.utils import combine_fooofs\n",
        "from fooof.core.funcs import infer_ap_func\n",
        "from fooof.core.info import get_ap_indices, get_peak_indices\n",
        "\n",
        "\n",
        "\n",
        "\n",
        "\n",
        "def model_to_dict(fit_results):\n",
        "    \"\"\"Convert model fit results to a dictionary.\n",
        "    Parameters\n",
        "    ----------\n",
        "    fit_results : FOOOFResults\n",
        "        Results of a model fit.\n",
        "    Returns\n",
        "    -------\n",
        "    dict\n",
        "        Model results organized into a dictionary.\n",
        "    \"\"\"\n",
        "\n",
        "    fr_dict = dict(\n",
        "        zip(\n",
        "            get_ap_indices(infer_ap_func(fit_results.get_params('aperiodic_params'))),\n",
        "            fit_results.get_params('aperiodic_params'),\n",
        "        )\n",
        "    )\n",
        "    # periodic parameters\n",
        "    peaks = fit_results.get_params('peak_params')\n",
        "    for ind, peak in enumerate(peaks):\n",
        "        for pe_label, pe_param in zip(get_peak_indices(), peak):\n",
        "            fr_dict[f'{pe_label.lower()}_{str(ind)}'] = pe_param\n",
        "\n",
        "    # goodness-of-fit metrics\n",
        "    fr_dict['error'] = fit_results.get_params('error')\n",
        "    fr_dict['r_squared'] = fit_results.get_params('r_squared')\n",
        "\n",
        "    return fr_dict\n",
        "\n",
        "\n",
        "def model_to_dataframe(fit_results):\n",
        "    \"\"\"Convert model fit results to a dataframe.\n",
        "    Parameters\n",
        "    ----------\n",
        "    fit_results : FOOOFResults\n",
        "        Results of a model fit.\n",
        "    Returns\n",
        "    -------\n",
        "    pd.Series\n",
        "        Model results organized into a dataframe.\n",
        "    \"\"\"\n",
        "\n",
        "    return pd.Series(model_to_dict(fit_results))"
      ]
    },
    {
      "cell_type": "code",
      "execution_count": 53,
      "id": "4b4c816e",
      "metadata": {},
      "outputs": [
        {
          "name": "stderr",
          "output_type": "stream",
          "text": [
            "Running FOOOFGroup: 100%|██████████| 2/2 [00:00<00:00,  2.70it/s]\n"
          ]
        },
        {
          "data": {
            "image/png": "[encoded data removed]",
            "text/plain": [
              "<Figure size 640x480 with 1 Axes>"
            ]
          },
          "metadata": {},
          "output_type": "display_data"
        }
      ],
      "source": [
        "freqs, powers, sim_params  = generate_example_spectra()\n",
        "import matplotlib.pyplot as plt\n",
        "plt.plot(freqs,powers[0])\n",
        "fg = psd_fooof(freqs, powers)\n"
      ]
    },
    {
      "cell_type": "code",
      "execution_count": 54,
      "id": "10f95934",
      "metadata": {},
      "outputs": [
        {
          "name": "stdout",
          "output_type": "stream",
          "text": [
            "Return model fit parameters for specified feature(s).\n",
            "\n",
            "        Parameters\n",
            "        ----------\n",
            "        name : {'aperiodic_params', 'peak_params', 'gaussian_params', 'error', 'r_squared'}\n",
            "            Name of the data field to extract across the group.\n",
            "        col : {'CF', 'PW', 'BW', 'offset', 'knee', 'exponent'} or int, optional\n",
            "            Column name / index to extract from selected data, if requested.\n",
            "            Only used for name of {'aperiodic_params', 'peak_params', 'gaussian_params'}.\n",
            "\n",
            "        Returns\n",
            "        -------\n",
            "        out : ndarray\n",
            "            Requested data.\n",
            "\n",
            "        Raises\n",
            "        ------\n",
            "        NoModelError\n",
            "            If there are no model fit results available.\n",
            "        ValueError\n",
            "            If the input for the `col` input is not understood.\n",
            "\n",
            "        Notes\n",
            "        -----\n",
            "        For further description of the data you can extract, check the FOOOFResults documentation.\n",
            "        \n"
          ]
        }
      ],
      "source": [
        "print(fg.get_params.__doc__)"
      ]
    },
    {
      "cell_type": "code",
      "execution_count": 57,
      "id": "58200794",
      "metadata": {},
      "outputs": [
        {
          "data": {
            "text/plain": [
              "offset          [0.49777470265970153, 1.002712123740026]\n",
              "exponent        [0.9741883594983498, 1.4803873523029627]\n",
              "cf_0                                           10.001092\n",
              "pw_0                                             0.36375\n",
              "bw_0                                                 2.5\n",
              "cf_1                                           19.654615\n",
              "pw_1                                            0.021382\n",
              "bw_1                                                 2.5\n",
              "cf_2                                           10.073413\n",
              "pw_2                                            0.170999\n",
              "bw_2                                                 2.5\n",
              "cf_3                                            22.02431\n",
              "pw_3                                            0.092683\n",
              "bw_3                                             5.83486\n",
              "error        [0.015502415040034957, 0.01465230105624748]\n",
              "r_squared       [0.9963285944422143, 0.9981384954340938]\n",
              "dtype: object"
            ]
          },
          "execution_count": 57,
          "metadata": {},
          "output_type": "execute_result"
        }
      ],
      "source": [
        "df = model_to_dataframe(fg)\n",
        "df\n"
      ]
    },
    {
      "cell_type": "code",
      "execution_count": 39,
      "id": "62d9f815",
      "metadata": {},
      "outputs": [
        {
          "name": "stdout",
          "output_type": "stream",
          "text": [
            "Overwriting ../src/lambic/eeg.py\n"
          ]
        }
      ],
      "source": [
        "%%writefile  ../src/lambic/eeg.py\n",
        "import pandas as pd\n",
        "import numpy as np\n",
        "\n",
        "from fooof import Bands\n",
        "from fooof.core.funcs import infer_ap_func\n",
        "from fooof.core.info import get_ap_indices, get_peak_indices\n",
        "from fooof.core.modutils import safe_import, check_dependency\n",
        "from fooof.analysis.periodic import get_band_peak\n",
        "\n",
        "def fooof2pandas(input_func):\n",
        "    def wrapper(*args, **kwargs):\n",
        "\n",
        "        fg = input_func(*args, **kwargs)\n",
        "        print('Number of model fits: ', len(fg))\n",
        "        temp_df = pd.DataFrame() # prepare error and slope dataframe\n",
        "        #temp_df['knee'] = fg.get_params('aperiodic_params', 'knee')\n",
        "        temp_df['offset'] = fg.get_params('aperiodic_params', 'offset')\n",
        "        temp_df['exponent'] = fg.get_params('aperiodic_params', 'exponent')\n",
        "\n",
        "        temp_df['errors']= fg.get_params('error')\n",
        "        temp_df['r2s']=fg.get_params('r_squared')\n",
        "        temp_df.insert(0, 'ID', temp_df.index)\n",
        "\n",
        "        peaks = fg.get_params('peak_params') # prepare peaks dataframe\n",
        "        peaks_df = pd.DataFrame(peaks)\n",
        "        peaks_df.columns = ['CF', 'PW', 'BW', 'ID']\n",
        "        peaks_df['ID'] = peaks_df['ID'].astype(int)\n",
        "        peaks_df = peaks_df.join(temp_df.set_index('ID'), on='ID')\n",
        "        return peaks_df\n",
        "    return wrapper\n",
        "\n",
        "\n",
        "\n",
        "\n",
        "\n",
        "def model_to_dict(fit_results):\n",
        "    \"\"\"Convert model fit results to a dictionary.\n",
        "    Parameters\n",
        "    ----------\n",
        "    fit_results : FOOOFResults\n",
        "        Results of a model fit.\n",
        "    Returns\n",
        "    -------\n",
        "    dict\n",
        "        Model results organized into a dictionary.\n",
        "    \"\"\"\n",
        "\n",
        "    fr_dict = dict(\n",
        "        zip(\n",
        "            get_ap_indices(infer_ap_func(fit_results.aperiodic_params)),\n",
        "            fit_results.aperiodic_params,\n",
        "        )\n",
        "    )\n",
        "    # periodic parameters\n",
        "    peaks = fit_results.peak_params\n",
        "\n",
        "    for ind, peak in enumerate(peaks):\n",
        "        for pe_label, pe_param in zip(get_peak_indices(), peak):\n",
        "            fr_dict[f'{pe_label.lower()}_{str(ind)}'] = pe_param\n",
        "\n",
        "    # goodness-of-fit metrics\n",
        "    fr_dict['error'] = fit_results.error\n",
        "    fr_dict['r_squared'] = fit_results.r_squared\n",
        "\n",
        "    return fr_dict\n",
        "\n",
        "\n",
        "def model_to_dataframe(fit_results):\n",
        "    \"\"\"Convert model fit results to a dataframe.\n",
        "    Parameters\n",
        "    ----------\n",
        "    fit_results : FOOOFResults\n",
        "        Results of a model fit.\n",
        "    Returns\n",
        "    -------\n",
        "    pd.Series\n",
        "        Model results organized into a dataframe.\n",
        "    \"\"\"\n",
        "\n",
        "    return pd.Series(model_to_dict(fit_results))\n",
        "\n",
        "def group_to_dataframe(fit_results, peak_org):\n",
        "    \"\"\"Convert a group of model fit results into a dataframe.\n",
        "    Parameters\n",
        "    ----------\n",
        "    fit_results : list of FOOOFResults\n",
        "        List of FOOOFResults objects.\n",
        "    peak_org : int or Bands\n",
        "        How to organize peaks.\n",
        "        If int, extracts the first n peaks.\n",
        "        If Bands, extracts peaks based on band definitions.\n",
        "    Returns\n",
        "    -------\n",
        "    pd.DataFrame\n",
        "        Model results organized into a dataframe.\n",
        "    \"\"\"\n",
        "\n",
        "    return pd.DataFrame([model_to_dataframe(f_res, peak_org) for f_res in fit_results])"
      ]
    },
    {
      "cell_type": "code",
      "execution_count": 40,
      "id": "fd273c93",
      "metadata": {},
      "outputs": [],
      "source": [
        "# %load ../src/lambic/eeg.py\n",
        "import pandas as pd\n",
        "import numpy as np\n",
        "\n",
        "from fooof import Bands\n",
        "from fooof.core.funcs import infer_ap_func\n",
        "from fooof.core.info import get_ap_indices, get_peak_indices\n",
        "from fooof.core.modutils import safe_import, check_dependency\n",
        "from fooof.analysis.periodic import get_band_peak\n",
        "\n",
        "def fooof2pandas(input_func):\n",
        "    def wrapper(*args, **kwargs):\n",
        "\n",
        "        fg = input_func(*args, **kwargs)\n",
        "        print('Number of model fits: ', len(fg))\n",
        "        temp_df = pd.DataFrame() # prepare error and slope dataframe\n",
        "        #temp_df['knee'] = fg.get_params('aperiodic_params', 'knee')\n",
        "        temp_df['offset'] = fg.get_params('aperiodic_params', 'offset')\n",
        "        temp_df['exponent'] = fg.get_params('aperiodic_params', 'exponent')\n",
        "\n",
        "        temp_df['errors']= fg.get_params('error')\n",
        "        temp_df['r2s']=fg.get_params('r_squared')\n",
        "        temp_df.insert(0, 'ID', temp_df.index)\n",
        "\n",
        "        peaks = fg.get_params('peak_params') # prepare peaks dataframe\n",
        "        peaks_df = pd.DataFrame(peaks)\n",
        "        peaks_df.columns = ['CF', 'PW', 'BW', 'ID']\n",
        "        peaks_df['ID'] = peaks_df['ID'].astype(int)\n",
        "        peaks_df = peaks_df.join(temp_df.set_index('ID'), on='ID')\n",
        "        return peaks_df\n",
        "    return wrapper\n",
        "\n",
        "\n",
        "\n",
        "def psd_fooof(freqs, spectra):\n",
        "    fg = FOOOFGroup(peak_width_limits=[2.5, 8],min_peak_height=0.05, max_n_peaks=6)\n",
        "    fg.fit(freqs, spectra, freq_range=[3, 48],n_jobs=-1, progress='tqdm')\n",
        "    return fg\n",
        "\n",
        "def model_to_dict(fit_results):\n",
        "    \"\"\"Convert model fit results to a dictionary.\n",
        "    Parameters\n",
        "    ----------\n",
        "    fit_results : FOOOFResults\n",
        "        Results of a model fit.\n",
        "    Returns\n",
        "    -------\n",
        "    dict\n",
        "        Model results organized into a dictionary.\n",
        "    \"\"\"\n",
        "\n",
        "    fr_dict = dict(\n",
        "        zip(\n",
        "            get_ap_indices(infer_ap_func(fit_results.aperiodic_params)),\n",
        "            fit_results.aperiodic_params,\n",
        "        )\n",
        "    )\n",
        "    # periodic parameters\n",
        "    peaks = fit_results.peak_params\n",
        "\n",
        "    for ind, peak in enumerate(peaks):\n",
        "        for pe_label, pe_param in zip(get_peak_indices(), peak):\n",
        "            fr_dict[f'{pe_label.lower()}_{str(ind)}'] = pe_param\n",
        "\n",
        "    # goodness-of-fit metrics\n",
        "    fr_dict['error'] = fit_results.error\n",
        "    fr_dict['r_squared'] = fit_results.r_squared\n",
        "\n",
        "    return fr_dict\n",
        "\n",
        "\n",
        "def model_to_dataframe(fit_results):\n",
        "    \"\"\"Convert model fit results to a dataframe.\n",
        "    Parameters\n",
        "    ----------\n",
        "    fit_results : FOOOFResults\n",
        "        Results of a model fit.\n",
        "    peak_org : int or Bands\n",
        "        How to organize peaks.\n",
        "        If int, extracts the first n peaks.\n",
        "        If Bands, extracts peaks based on band definitions.\n",
        "    Returns\n",
        "    -------\n",
        "    pd.Series\n",
        "        Model results organized into a dataframe.\n",
        "    \"\"\"\n",
        "\n",
        "    return pd.Series(model_to_dict(fit_results))\n",
        "\n",
        "def group_to_dataframe(fit_results, peak_org):\n",
        "    \"\"\"Convert a group of model fit results into a dataframe.\n",
        "    Parameters\n",
        "    ----------\n",
        "    fit_results : list of FOOOFResults\n",
        "        List of FOOOFResults objects.\n",
        "    peak_org : int or Bands\n",
        "        How to organize peaks.\n",
        "        If int, extracts the first n peaks.\n",
        "        If Bands, extracts peaks based on band definitions.\n",
        "    Returns\n",
        "    -------\n",
        "    pd.DataFrame\n",
        "        Model results organized into a dataframe.\n",
        "    \"\"\"\n",
        "\n",
        "    return pd.DataFrame([model_to_dataframe(f_res, peak_org) for f_res in fit_results])\n"
      ]
    },
    {
      "cell_type": "markdown",
      "id": "117fe66f",
      "metadata": {},
      "source": [
        "## Tests\n"
      ]
    },
    {
      "cell_type": "code",
      "execution_count": 29,
      "id": "de3feace",
      "metadata": {},
      "outputs": [
        {
          "name": "stdout",
          "output_type": "stream",
          "text": [
            "Overwriting ../tests/test_eeg.py\n"
          ]
        }
      ],
      "source": [
        "%%writefile  ../tests/test_eeg.py\n",
        "\n",
        "from fooof import FOOOFGroup,  FOOOF\n",
        "import pandas as pd\n",
        "import numpy as np\n",
        "from neurodsp.spectral import compute_spectrum\n",
        "from fooof import FOOOFGroup\n",
        "import mne\n",
        "from fooof.sim.gen import gen_freqs, gen_group_power_spectra\n",
        "import functools\n",
        "import inspect\n",
        "from fooof.objs.utils import combine_fooofs\n",
        "\n",
        "def generate_example_spectra():\n",
        "    n_spectra = 2\n",
        "    freq_range = [3, 40]\n",
        "    ap_params = [[0.5, 1], [1, 1.5]]\n",
        "    pe_params = [[10, 0.4, 1], [10, 0.2, 1, 22, 0.1, 3]]\n",
        "    nlv = 0.02\n",
        "    # Simulate a group of power spectra\n",
        "    freqs, powers, sim_params = gen_group_power_spectra(n_spectra, freq_range, ap_params,\n",
        "                                                    pe_params, nlv, return_params=True)\n",
        "    return freqs, powers, sim_params"
      ]
    },
    {
      "cell_type": "code",
      "execution_count": 30,
      "id": "3c3cc676",
      "metadata": {},
      "outputs": [],
      "source": [
        "# %load ../tests/test_eeg.py\n",
        "\n",
        "from fooof import FOOOFGroup,  FOOOF\n",
        "import pandas as pd\n",
        "import numpy as np\n",
        "from neurodsp.spectral import compute_spectrum\n",
        "from fooof import FOOOFGroup\n",
        "import mne\n",
        "from fooof.sim.gen import gen_freqs, gen_group_power_spectra\n",
        "import functools\n",
        "import inspect\n",
        "from fooof.objs.utils import combine_fooofs\n",
        "\n",
        "def generate_example_spectra():\n",
        "    n_spectra = 2\n",
        "    freq_range = [3, 40]\n",
        "    ap_params = [[0.5, 1], [1, 1.5]]\n",
        "    pe_params = [[10, 0.4, 1], [10, 0.2, 1, 22, 0.1, 3]]\n",
        "    nlv = 0.02\n",
        "    # Simulate a group of power spectra\n",
        "    freqs, powers, sim_params = gen_group_power_spectra(n_spectra, freq_range, ap_params,\n",
        "                                                    pe_params, nlv, return_params=True)\n",
        "    return freqs, powers, sim_params\n"
      ]
    },
    {
      "cell_type": "code",
      "execution_count": 38,
      "id": "898a595e",
      "metadata": {},
      "outputs": [
        {
          "data": {
            "text/plain": [
              "[<matplotlib.lines.Line2D at 0x17c2ef550>]"
            ]
          },
          "execution_count": 38,
          "metadata": {},
          "output_type": "execute_result"
        },
        {
          "data": {
            "image/png": "[encoded data removed]",
            "text/plain": [
              "<Figure size 640x480 with 1 Axes>"
            ]
          },
          "metadata": {},
          "output_type": "display_data"
        }
      ],
      "source": [
        "freqs, powers, sim_params  = generate_example_spectra()\n",
        "import matplotlib.pyplot as plt\n",
        "plt.plot(freqs,powers[0])\n"
      ]
    },
    {
      "cell_type": "code",
      "execution_count": null,
      "id": "4db00d22",
      "metadata": {},
      "outputs": [],
      "source": [
        "df = model_to_dataframe(powers)"
      ]
    }
  ],
  "metadata": {
    "kernelspec": {
      "display_name": "lambic-3.11.2",
      "language": "python",
      "name": "lambic-3.11.2"
    },
    "language_info": {
      "codemirror_mode": {
        "name": "ipython",
        "version": 3
      },
      "file_extension": ".py",
      "mimetype": "text/x-python",
      "name": "python",
      "nbconvert_exporter": "python",
      "pygments_lexer": "ipython3",
      "version": "3.11.2"
    }
  },
  "nbformat": 4,
  "nbformat_minor": 5
}
